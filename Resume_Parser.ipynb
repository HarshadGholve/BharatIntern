{
  "nbformat": 4,
  "nbformat_minor": 0,
  "metadata": {
    "colab": {
      "provenance": [],
      "authorship_tag": "ABX9TyO26yvo0YTsYkb7G//ia4qu",
      "include_colab_link": true
    },
    "kernelspec": {
      "name": "python3",
      "display_name": "Python 3"
    },
    "language_info": {
      "name": "python"
    }
  },
  "cells": [
    {
      "cell_type": "markdown",
      "metadata": {
        "id": "view-in-github",
        "colab_type": "text"
      },
      "source": [
        "<a href=\"https://colab.research.google.com/github/HarshadGholve/BharatIntern/blob/main/Resume_Parser.ipynb\" target=\"_parent\"><img src=\"https://colab.research.google.com/assets/colab-badge.svg\" alt=\"Open In Colab\"/></a>"
      ]
    },
    {
      "cell_type": "code",
      "execution_count": null,
      "metadata": {
        "colab": {
          "base_uri": "https://localhost:8080/"
        },
        "id": "mFOjGqx1-6yK",
        "outputId": "eb4fd4aa-1d69-4f71-cd2d-2b9d3fee53fc"
      },
      "outputs": [
        {
          "output_type": "stream",
          "name": "stdout",
          "text": [
            "Requirement already satisfied: nltk in /usr/local/lib/python3.10/dist-packages (3.8.1)\n",
            "Requirement already satisfied: click in /usr/local/lib/python3.10/dist-packages (from nltk) (8.1.6)\n",
            "Requirement already satisfied: joblib in /usr/local/lib/python3.10/dist-packages (from nltk) (1.3.1)\n",
            "Requirement already satisfied: regex>=2021.8.3 in /usr/local/lib/python3.10/dist-packages (from nltk) (2022.10.31)\n",
            "Requirement already satisfied: tqdm in /usr/local/lib/python3.10/dist-packages (from nltk) (4.65.0)\n"
          ]
        }
      ],
      "source": [
        "pip install nltk"
      ]
    },
    {
      "cell_type": "code",
      "source": [
        "pip install PyMuPDF"
      ],
      "metadata": {
        "colab": {
          "base_uri": "https://localhost:8080/"
        },
        "id": "eWalEiSE_qeL",
        "outputId": "074c7c5d-aa14-41d0-ff67-ddce39634c96"
      },
      "execution_count": null,
      "outputs": [
        {
          "output_type": "stream",
          "name": "stdout",
          "text": [
            "Collecting PyMuPDF\n",
            "  Downloading PyMuPDF-1.22.5-cp310-cp310-manylinux_2_17_x86_64.manylinux2014_x86_64.whl (14.1 MB)\n",
            "\u001b[2K     \u001b[90m━━━━━━━━━━━━━━━━━━━━━━━━━━━━━━━━━━━━━━━━\u001b[0m \u001b[32m14.1/14.1 MB\u001b[0m \u001b[31m30.4 MB/s\u001b[0m eta \u001b[36m0:00:00\u001b[0m\n",
            "\u001b[?25hInstalling collected packages: PyMuPDF\n",
            "Successfully installed PyMuPDF-1.22.5\n"
          ]
        }
      ]
    },
    {
      "cell_type": "code",
      "source": [
        "import nltk\n",
        "from nltk.tokenize import word_tokenize\n",
        "from nltk.corpus import stopwords\n",
        "from nltk.stem import PorterStemmer\n",
        "import fitz  # Import PyMuPDF"
      ],
      "metadata": {
        "id": "5Bc_UjmV_MpC"
      },
      "execution_count": null,
      "outputs": []
    },
    {
      "cell_type": "code",
      "source": [
        "nltk.download('punkt')\n",
        "nltk.download('stopwords')"
      ],
      "metadata": {
        "colab": {
          "base_uri": "https://localhost:8080/"
        },
        "id": "H6cuuEMg_emk",
        "outputId": "d5f5b91b-3be7-4601-a237-8f9058432135"
      },
      "execution_count": null,
      "outputs": [
        {
          "output_type": "stream",
          "name": "stderr",
          "text": [
            "[nltk_data] Downloading package punkt to /root/nltk_data...\n",
            "[nltk_data]   Package punkt is already up-to-date!\n",
            "[nltk_data] Downloading package stopwords to /root/nltk_data...\n",
            "[nltk_data]   Unzipping corpora/stopwords.zip.\n"
          ]
        },
        {
          "output_type": "execute_result",
          "data": {
            "text/plain": [
              "True"
            ]
          },
          "metadata": {},
          "execution_count": 12
        }
      ]
    },
    {
      "cell_type": "code",
      "source": [
        "# Load the resume text from a PDF file\n",
        "def load_resume_from_pdf(file_path):\n",
        "    text = \"\"\n",
        "    with fitz.open(file_path) as pdf_document:\n",
        "        for page_num in range(pdf_document.page_count):\n",
        "            page = pdf_document[page_num]\n",
        "            text += page.get_text()\n",
        "\n",
        "    return text\n",
        "\n",
        "# Text preprocessing\n",
        "def preprocess_resume(resume_text):\n",
        "    words = word_tokenize(resume_text)\n",
        "    stop_words = set(stopwords.words(\"english\"))\n",
        "    words = [word.lower() for word in words if word.lower() not in stop_words]\n",
        "    ps = PorterStemmer()\n",
        "    words = [ps.stem(word) for word in words]\n",
        "    return words\n",
        "\n",
        "# Find matching skills in the resume based on specified keywords\n",
        "def find_matching_skills(resume_text, keywords):\n",
        "    resume_words = preprocess_resume(resume_text)\n",
        "    matched_skills = set()\n",
        "\n",
        "    for keyword in keywords:\n",
        "        keyword_stem = PorterStemmer().stem(keyword.lower())\n",
        "        if keyword_stem in resume_words:\n",
        "            matched_skills.add(keyword)\n",
        "\n",
        "    return matched_skills"
      ],
      "metadata": {
        "id": "iy-NUjUX_4wo"
      },
      "execution_count": null,
      "outputs": []
    },
    {
      "cell_type": "code",
      "source": [
        "# Example usage with a resume PDF file\n",
        "resume_pdf_path = 'Harshad Gholve Resume.pdf'\n",
        "resume_text = load_resume_from_pdf(resume_pdf_path)"
      ],
      "metadata": {
        "id": "DZuxtbdSARrL"
      },
      "execution_count": null,
      "outputs": []
    },
    {
      "cell_type": "code",
      "source": [
        "# List of keywords to search for in the resume\n",
        "keywords_to_search = [\"python\", \"machine learning\", \"data analysis\", \"communication\", \"problem-solving\", \"programming\"]\n",
        "\n",
        "matched_skills = find_matching_skills(resume_text, keywords_to_search)\n",
        "\n",
        "print(\"Skills mentioned in the resume:\")\n",
        "print(matched_skills)"
      ],
      "metadata": {
        "colab": {
          "base_uri": "https://localhost:8080/"
        },
        "id": "OW8WcUkuBeVK",
        "outputId": "7f533d48-18c0-48b4-84ce-0a7291b5111a"
      },
      "execution_count": null,
      "outputs": [
        {
          "output_type": "stream",
          "name": "stdout",
          "text": [
            "Skills mentioned in the resume:\n",
            "{'programming', 'python', 'communication'}\n"
          ]
        }
      ]
    },
    {
      "cell_type": "code",
      "source": [],
      "metadata": {
        "id": "fcl6vq5sB-0R"
      },
      "execution_count": null,
      "outputs": []
    }
  ]
}