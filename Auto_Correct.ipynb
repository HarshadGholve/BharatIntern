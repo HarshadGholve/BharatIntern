{
  "nbformat": 4,
  "nbformat_minor": 0,
  "metadata": {
    "colab": {
      "provenance": [],
      "authorship_tag": "ABX9TyPK1CT6XuYmfs5cB8GAzR+/",
      "include_colab_link": true
    },
    "kernelspec": {
      "name": "python3",
      "display_name": "Python 3"
    },
    "language_info": {
      "name": "python"
    }
  },
  "cells": [
    {
      "cell_type": "markdown",
      "metadata": {
        "id": "view-in-github",
        "colab_type": "text"
      },
      "source": [
        "<a href=\"https://colab.research.google.com/github/HarshadGholve/BharatIntern/blob/main/Auto_Correct.ipynb\" target=\"_parent\"><img src=\"https://colab.research.google.com/assets/colab-badge.svg\" alt=\"Open In Colab\"/></a>"
      ]
    },
    {
      "cell_type": "code",
      "source": [
        "pip install pyspellchecker"
      ],
      "metadata": {
        "colab": {
          "base_uri": "https://localhost:8080/"
        },
        "id": "1ED5uSOlCvIM",
        "outputId": "4c55c0b7-5f8c-47e4-c6af-6e3aec489ff5"
      },
      "execution_count": null,
      "outputs": [
        {
          "output_type": "stream",
          "name": "stdout",
          "text": [
            "Collecting pyspellchecker\n",
            "  Downloading pyspellchecker-0.7.2-py3-none-any.whl (3.4 MB)\n",
            "\u001b[2K     \u001b[90m━━━━━━━━━━━━━━━━━━━━━━━━━━━━━━━━━━━━━━━━\u001b[0m \u001b[32m3.4/3.4 MB\u001b[0m \u001b[31m13.0 MB/s\u001b[0m eta \u001b[36m0:00:00\u001b[0m\n",
            "\u001b[?25hInstalling collected packages: pyspellchecker\n",
            "Successfully installed pyspellchecker-0.7.2\n"
          ]
        }
      ]
    },
    {
      "cell_type": "code",
      "execution_count": null,
      "metadata": {
        "colab": {
          "base_uri": "https://localhost:8080/"
        },
        "id": "bS5wi1zCCcA2",
        "outputId": "ea7db65b-0de3-4651-bf38-aecc0985e386"
      },
      "outputs": [
        {
          "output_type": "stream",
          "name": "stdout",
          "text": [
            "Input word: appel\n",
            "Corrected word: apple\n"
          ]
        }
      ],
      "source": [
        "from spellchecker import SpellChecker\n",
        "\n",
        "# Initialize the spell checker\n",
        "spell = SpellChecker()\n",
        "\n",
        "def autocorrect(input_word):\n",
        "    # Check if the input word is a valid word, else try to correct it\n",
        "    return str(spell.correction(input_word))\n",
        "\n",
        "# Example usage\n",
        "input_word = \"appel\"\n",
        "corrected_word = autocorrect(input_word)\n",
        "\n",
        "print(f\"Input word: {input_word}\")\n",
        "print(f\"Corrected word: {corrected_word}\")\n"
      ]
    },
    {
      "cell_type": "code",
      "source": [],
      "metadata": {
        "id": "Fnuy0AxzCex-"
      },
      "execution_count": null,
      "outputs": []
    }
  ]
}